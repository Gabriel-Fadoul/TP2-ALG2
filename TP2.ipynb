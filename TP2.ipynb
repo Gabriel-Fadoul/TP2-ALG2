{
 "cells": [
  {
   "cell_type": "code",
   "execution_count": 2,
   "metadata": {},
   "outputs": [],
   "source": [
    "import math\n",
    "import numpy as np\n",
    "import pandas as pd\n",
    "import networkx as nx\n",
    "from functools import partial\n",
    "from datetime import datetime\n",
    "from memory_profiler import memory_usage"
   ]
  },
  {
   "cell_type": "code",
   "execution_count": 3,
   "metadata": {},
   "outputs": [],
   "source": [
    "def euc_2d(p1, p2):\n",
    "    x1, y1 = p1\n",
    "    x2, y2 = p2\n",
    "    d = math.sqrt((x2 - x1)**2 + (y2 - y1)**2)\n",
    "    return d\n",
    "\n",
    "def generate_nodes(p,data):\n",
    "    return np.apply_along_axis(lambda x: euc_2d((p[1],p[2]),(x[1],x[2])),1,data)\n",
    "\n",
    "def generate_graph(archive):\n",
    "    f = open(\"./datasets/\"+archive[0],\"r\")\n",
    "    data = f.readlines()\n",
    "    data = data[data.index(\"NODE_COORD_SECTION\\n\")+1:-1]\n",
    "    d = np.array(list(map(lambda x: [float(i) for i in x.split()],data)))\n",
    "    nodes = np.apply_along_axis(lambda x: x,0,d)\n",
    "    edges = np.apply_along_axis(lambda x: generate_nodes(x,nodes),1,nodes)\n",
    "\n",
    "    G = nx.Graph()\n",
    "    #Create Nodes\n",
    "    G.add_nodes_from(nodes[:,0])\n",
    "\n",
    "    for i in range(len(nodes[:,0])):\n",
    "        for j in range(len(nodes[:,0])):\n",
    "            G.add_weighted_edges_from([(i+1,j+1,edges[i][j])])\n",
    "    f.close()\n",
    "    return G"
   ]
  },
  {
   "cell_type": "markdown",
   "metadata": {},
   "source": [
    "# Twice-Around-The-Tree(TAT)"
   ]
  },
  {
   "cell_type": "code",
   "execution_count": 4,
   "metadata": {},
   "outputs": [],
   "source": [
    "def sum_edges(G,ord):\n",
    "    c = 0\n",
    "    for i in range(len(ord)-1):   \n",
    "        c += G[ord[i]][ord[i+1]]['weight']\n",
    "    return c + G[ord[0]][ord[len(ord)-1]]['weight']\n",
    "\n",
    "def twice_around_the_tree(G):\n",
    "    T = nx.minimum_spanning_tree(G)\n",
    "    ordenation = list(nx.dfs_preorder_nodes(T, 1))\n",
    "    total = sum_edges(G, ordenation)\n",
    "    return total"
   ]
  },
  {
   "cell_type": "markdown",
   "metadata": {},
   "source": [
    "# Christofides"
   ]
  },
  {
   "cell_type": "code",
   "execution_count": 5,
   "metadata": {},
   "outputs": [],
   "source": [
    "def christofides(G):\n",
    "  T = nx.minimum_spanning_tree(G) \n",
    "  n_odd = list(filter(lambda x: (x[1]%2)!=0 ,T.degree))\n",
    "  min_m = nx.min_weight_matching(G.subgraph(n_odd)) \n",
    "  h = nx.MultiGraph(T)\n",
    "  h.add_edges_from(min_m)\n",
    "  ordenation = list(nx.dfs_preorder_nodes(h, 1))\n",
    "  total = sum_edges(G, ordenation)\n",
    "  return total"
   ]
  },
  {
   "cell_type": "markdown",
   "metadata": {},
   "source": [
    "# Wrap Up Pipeline"
   ]
  },
  {
   "cell_type": "code",
   "execution_count": 6,
   "metadata": {},
   "outputs": [],
   "source": [
    "def wrap_up_tat(G):\n",
    "    start=datetime.now()\n",
    "    M_TAT, D_TAT =  memory_usage(partial(twice_around_the_tree,G),interval=1,max_usage=True,retval=True)\n",
    "    T_TAT = datetime.now()-start\n",
    "    return [T_TAT.total_seconds(),M_TAT,D_TAT]\n",
    "\n",
    "def wrap_up_chf(G):\n",
    "    start=datetime.now()\n",
    "    M_CHF, D_CHF =  memory_usage(partial(christofides,G),interval=1,max_usage=True,retval=True)\n",
    "    T_CHF = datetime.now()-start\n",
    "    return [T_CHF.total_seconds(),M_CHF,D_CHF]"
   ]
  },
  {
   "cell_type": "code",
   "execution_count": 7,
   "metadata": {},
   "outputs": [],
   "source": [
    "file = open('./tp2_datasets.txt', 'r')\n",
    "\n",
    "archives = []\n",
    "\n",
    "for line in file.readlines()[1:]:\n",
    "    name = line.split()[0]+\".tsp\"\n",
    "    n_nodes = line.split()[1]\n",
    "    opt = line.split()[2]\n",
    "    opt = opt if \"[\" not in opt else opt[opt.index(\",\")+1:-1]\n",
    "    archives.append([name,n_nodes,opt])\n",
    "file.close()"
   ]
  },
  {
   "cell_type": "code",
   "execution_count": 74,
   "metadata": {},
   "outputs": [
    {
     "name": "stdout",
     "output_type": "stream",
     "text": [
      "---------------Dataset:eil51.tsp done in 6.399796----------------\n",
      "---------------Dataset:berlin52.tsp done in 6.143476----------------\n",
      "---------------Dataset:st70.tsp done in 6.563385----------------\n",
      "---------------Dataset:eil76.tsp done in 5.862652----------------\n",
      "---------------Dataset:pr76.tsp done in 7.207755----------------\n",
      "---------------Dataset:rat99.tsp done in 4.582917----------------\n",
      "---------------Dataset:kroA100.tsp done in 7.570693----------------\n",
      "---------------Dataset:kroB100.tsp done in 6.209035----------------\n",
      "---------------Dataset:kroC100.tsp done in 5.898284----------------\n",
      "---------------Dataset:kroD100.tsp done in 5.23298----------------\n",
      "---------------Dataset:kroE100.tsp done in 7.06383----------------\n",
      "---------------Dataset:rd100.tsp done in 5.364921----------------\n",
      "---------------Dataset:eil101.tsp done in 6.842048----------------\n",
      "---------------Dataset:lin105.tsp done in 5.934035----------------\n",
      "---------------Dataset:pr107.tsp done in 5.764001----------------\n",
      "---------------Dataset:pr124.tsp done in 4.663666----------------\n",
      "---------------Dataset:bier127.tsp done in 4.545121----------------\n",
      "---------------Dataset:ch130.tsp done in 4.682053----------------\n",
      "---------------Dataset:pr136.tsp done in 3.839599----------------\n",
      "---------------Dataset:pr144.tsp done in 3.979986----------------\n",
      "---------------Dataset:ch150.tsp done in 7.064835----------------\n",
      "---------------Dataset:kroA150.tsp done in 4.944831----------------\n",
      "---------------Dataset:kroB150.tsp done in 3.686183----------------\n",
      "---------------Dataset:pr152.tsp done in 3.060549----------------\n",
      "---------------Dataset:u159.tsp done in 4.872793----------------\n",
      "---------------Dataset:rat195.tsp done in 3.94639----------------\n",
      "---------------Dataset:d198.tsp done in 5.395097----------------\n",
      "---------------Dataset:kroA200.tsp done in 4.159491----------------\n",
      "---------------Dataset:kroB200.tsp done in 4.575286----------------\n",
      "---------------Dataset:ts225.tsp done in 4.157522----------------\n",
      "---------------Dataset:tsp225.tsp done in 4.594865----------------\n",
      "---------------Dataset:pr226.tsp done in 4.141522----------------\n",
      "---------------Dataset:gil262.tsp done in 4.091021----------------\n",
      "---------------Dataset:pr264.tsp done in 2.871911----------------\n",
      "---------------Dataset:a280.tsp done in 4.063627----------------\n",
      "---------------Dataset:pr299.tsp done in 3.040895----------------\n",
      "---------------Dataset:lin318.tsp done in 4.386723----------------\n",
      "---------------Dataset:linhp318.tsp done in 4.430577----------------\n",
      "---------------Dataset:rd400.tsp done in 3.523316----------------\n",
      "---------------Dataset:fl417.tsp done in 3.419378----------------\n",
      "---------------Dataset:pr439.tsp done in 3.476166----------------\n",
      "---------------Dataset:pcb442.tsp done in 3.686834----------------\n",
      "---------------Dataset:d493.tsp done in 3.892048----------------\n",
      "---------------Dataset:u574.tsp done in 4.351478----------------\n",
      "---------------Dataset:rat575.tsp done in 4.560346----------------\n",
      "---------------Dataset:p654.tsp done in 4.940492----------------\n",
      "---------------Dataset:d657.tsp done in 5.458595----------------\n",
      "---------------Dataset:u724.tsp done in 6.098974----------------\n",
      "---------------Dataset:rat783.tsp done in 3.356653----------------\n",
      "---------------Dataset:pr1002.tsp done in 4.82309----------------\n",
      "---------------Dataset:u1060.tsp done in 5.314018----------------\n",
      "---------------Dataset:vm1084.tsp done in 6.275189----------------\n",
      "---------------Dataset:pcb1173.tsp done in 6.515584----------------\n",
      "---------------Dataset:d1291.tsp done in 8.027738----------------\n",
      "---------------Dataset:rl1304.tsp done in 8.544188----------------\n",
      "---------------Dataset:rl1323.tsp done in 5.409094----------------\n",
      "---------------Dataset:nrw1379.tsp done in 6.020544----------------\n",
      "---------------Dataset:fl1400.tsp done in 5.500551----------------\n",
      "---------------Dataset:u1432.tsp done in 6.156089----------------\n",
      "---------------Dataset:fl1577.tsp done in 6.927309----------------\n",
      "---------------Dataset:d1655.tsp done in 8.611255----------------\n",
      "---------------Dataset:vm1748.tsp done in 9.710019----------------\n",
      "---------------Dataset:u1817.tsp done in 10.402877----------------\n",
      "---------------Dataset:rl1889.tsp done in 11.62998----------------\n",
      "---------------Dataset:d2103.tsp done in 12.41724----------------\n",
      "---------------Dataset:u2152.tsp done in 15.22687----------------\n",
      "---------------Dataset:u2319.tsp done in 16.601684----------------\n",
      "---------------Dataset:pr2392.tsp done in 17.606613----------------\n",
      "---------------Dataset:pcb3038.tsp done in 33.597699----------------\n",
      "---------------Dataset:fl3795.tsp done in 45.708945----------------\n",
      "---------------Dataset:fnl4461.tsp done in 72.102197----------------\n",
      "---------------Dataset:rl5915.tsp done in 136.269261----------------\n",
      "---------------Dataset:rl5934.tsp done in 161.65038----------------\n"
     ]
    },
    {
     "ename": "MemoryError",
     "evalue": "",
     "output_type": "error",
     "traceback": [
      "\u001b[1;31m---------------------------------------------------------------------------\u001b[0m",
      "\u001b[1;31mMemoryError\u001b[0m                               Traceback (most recent call last)",
      "Cell \u001b[1;32mIn[74], line 3\u001b[0m\n\u001b[0;32m      1\u001b[0m TAT_DATA \u001b[38;5;241m=\u001b[39m []\n\u001b[0;32m      2\u001b[0m \u001b[38;5;28;01mfor\u001b[39;00m arch \u001b[38;5;129;01min\u001b[39;00m archives:\n\u001b[1;32m----> 3\u001b[0m     G \u001b[38;5;241m=\u001b[39m \u001b[43mgenerate_graph\u001b[49m\u001b[43m(\u001b[49m\u001b[43march\u001b[49m\u001b[43m)\u001b[49m\n\u001b[0;32m      4\u001b[0m     results \u001b[38;5;241m=\u001b[39m wrap_up_tat(G)\n\u001b[0;32m      5\u001b[0m     results\u001b[38;5;241m.\u001b[39minsert(\u001b[38;5;241m0\u001b[39m,arch[\u001b[38;5;241m0\u001b[39m])\n",
      "Cell \u001b[1;32mIn[23], line 24\u001b[0m, in \u001b[0;36mgenerate_graph\u001b[1;34m(archive)\u001b[0m\n\u001b[0;32m     22\u001b[0m \u001b[38;5;28;01mfor\u001b[39;00m i \u001b[38;5;129;01min\u001b[39;00m \u001b[38;5;28mrange\u001b[39m(\u001b[38;5;28mlen\u001b[39m(nodes[:,\u001b[38;5;241m0\u001b[39m])):\n\u001b[0;32m     23\u001b[0m     \u001b[38;5;28;01mfor\u001b[39;00m j \u001b[38;5;129;01min\u001b[39;00m \u001b[38;5;28mrange\u001b[39m(\u001b[38;5;28mlen\u001b[39m(nodes[:,\u001b[38;5;241m0\u001b[39m])):\n\u001b[1;32m---> 24\u001b[0m         \u001b[43mG\u001b[49m\u001b[38;5;241;43m.\u001b[39;49m\u001b[43madd_weighted_edges_from\u001b[49m\u001b[43m(\u001b[49m\u001b[43m[\u001b[49m\u001b[43m(\u001b[49m\u001b[43mi\u001b[49m\u001b[38;5;241;43m+\u001b[39;49m\u001b[38;5;241;43m1\u001b[39;49m\u001b[43m,\u001b[49m\u001b[43mj\u001b[49m\u001b[38;5;241;43m+\u001b[39;49m\u001b[38;5;241;43m1\u001b[39;49m\u001b[43m,\u001b[49m\u001b[43medges\u001b[49m\u001b[43m[\u001b[49m\u001b[43mi\u001b[49m\u001b[43m]\u001b[49m\u001b[43m[\u001b[49m\u001b[43mj\u001b[49m\u001b[43m]\u001b[49m\u001b[43m)\u001b[49m\u001b[43m]\u001b[49m\u001b[43m)\u001b[49m\n\u001b[0;32m     25\u001b[0m f\u001b[38;5;241m.\u001b[39mclose()\n\u001b[0;32m     26\u001b[0m \u001b[38;5;28;01mreturn\u001b[39;00m G\n",
      "File \u001b[1;32mc:\\Users\\Gabri\\AppData\\Local\\Programs\\Python\\Python310\\lib\\site-packages\\networkx\\classes\\graph.py:1089\u001b[0m, in \u001b[0;36mGraph.add_weighted_edges_from\u001b[1;34m(self, ebunch_to_add, weight, **attr)\u001b[0m\n\u001b[0;32m   1041\u001b[0m \u001b[38;5;28;01mdef\u001b[39;00m \u001b[38;5;21madd_weighted_edges_from\u001b[39m(\u001b[38;5;28mself\u001b[39m, ebunch_to_add, weight\u001b[38;5;241m=\u001b[39m\u001b[38;5;124m\"\u001b[39m\u001b[38;5;124mweight\u001b[39m\u001b[38;5;124m\"\u001b[39m, \u001b[38;5;241m*\u001b[39m\u001b[38;5;241m*\u001b[39mattr):\n\u001b[0;32m   1042\u001b[0m \u001b[38;5;250m    \u001b[39m\u001b[38;5;124;03m\"\"\"Add weighted edges in `ebunch_to_add` with specified weight attr\u001b[39;00m\n\u001b[0;32m   1043\u001b[0m \n\u001b[0;32m   1044\u001b[0m \u001b[38;5;124;03m    Parameters\u001b[39;00m\n\u001b[1;32m   (...)\u001b[0m\n\u001b[0;32m   1087\u001b[0m \u001b[38;5;124;03m    >>> G.add_weighted_edges_from(list((5, n, weight) for n in G.nodes))\u001b[39;00m\n\u001b[0;32m   1088\u001b[0m \u001b[38;5;124;03m    \"\"\"\u001b[39;00m\n\u001b[1;32m-> 1089\u001b[0m     \u001b[38;5;28mself\u001b[39m\u001b[38;5;241m.\u001b[39madd_edges_from(((u, v, {weight: d}) \u001b[38;5;28;01mfor\u001b[39;00m u, v, d \u001b[38;5;129;01min\u001b[39;00m ebunch_to_add), \u001b[38;5;241m*\u001b[39m\u001b[38;5;241m*\u001b[39mattr)\n",
      "File \u001b[1;32mc:\\Users\\Gabri\\AppData\\Local\\Programs\\Python\\Python310\\lib\\site-packages\\networkx\\classes\\graph.py:1038\u001b[0m, in \u001b[0;36mGraph.add_edges_from\u001b[1;34m(self, ebunch_to_add, **attr)\u001b[0m\n\u001b[0;32m   1036\u001b[0m datadict\u001b[38;5;241m.\u001b[39mupdate(attr)\n\u001b[0;32m   1037\u001b[0m datadict\u001b[38;5;241m.\u001b[39mupdate(dd)\n\u001b[1;32m-> 1038\u001b[0m \u001b[38;5;28;43mself\u001b[39;49m\u001b[38;5;241;43m.\u001b[39;49m\u001b[43m_adj\u001b[49m\u001b[43m[\u001b[49m\u001b[43mu\u001b[49m\u001b[43m]\u001b[49m\u001b[43m[\u001b[49m\u001b[43mv\u001b[49m\u001b[43m]\u001b[49m \u001b[38;5;241m=\u001b[39m datadict\n\u001b[0;32m   1039\u001b[0m \u001b[38;5;28mself\u001b[39m\u001b[38;5;241m.\u001b[39m_adj[v][u] \u001b[38;5;241m=\u001b[39m datadict\n",
      "\u001b[1;31mMemoryError\u001b[0m: "
     ]
    }
   ],
   "source": [
    "TAT_DATA = []\n",
    "for arch in archives:\n",
    "    G = generate_graph(arch)\n",
    "    results = wrap_up_tat(G)\n",
    "    results.insert(0,arch[0])\n",
    "    results.append(float(arch[2]))\n",
    "    results.append(int(arch[1]))\n",
    "    TAT_DATA.append(results)\n",
    "    print(f\"---------------Dataset:{arch[0]} done in {results[1]}----------------\")"
   ]
  },
  {
   "cell_type": "code",
   "execution_count": null,
   "metadata": {},
   "outputs": [],
   "source": [
    "results_tat = pd.DataFrame(TAT_DATA,columns=[\"Dataset\",\"ExecutionTime\",\"MemoryUsage\",\"FoundWeight\",\"OptimalWeight\",\"NumberNodes\"])\n",
    "results_tat[\"Quality\"] = results_tat[\"FoundWeight\"]/results_tat[\"OptimalWeight\"]\n",
    "results_tat.to_csv(\"results_tat.csv\",sep=\",\",header=True,index=False)"
   ]
  },
  {
   "cell_type": "code",
   "execution_count": null,
   "metadata": {},
   "outputs": [],
   "source": []
  },
  {
   "cell_type": "code",
   "execution_count": 8,
   "metadata": {},
   "outputs": [
    {
     "name": "stdout",
     "output_type": "stream",
     "text": [
      "---------------Dataset:eil51.tsp done in 5.197395----------------\n",
      "---------------Dataset:berlin52.tsp done in 5.473623----------------\n",
      "---------------Dataset:st70.tsp done in 6.176966----------------\n",
      "---------------Dataset:eil76.tsp done in 4.458985----------------\n",
      "---------------Dataset:pr76.tsp done in 5.493253----------------\n"
     ]
    }
   ],
   "source": [
    "CHF_DATA = []\n",
    "for arch in archives[0:5]:\n",
    "    G = generate_graph(arch)\n",
    "    results = wrap_up_chf(G)\n",
    "    results.insert(0,arch[0])\n",
    "    results.append(float(arch[2]))\n",
    "    results.append(int(arch[1]))\n",
    "    CHF_DATA.append(results)\n",
    "    print(f\"---------------Dataset:{arch[0]} done in {results[1]}----------------\")"
   ]
  },
  {
   "cell_type": "code",
   "execution_count": 9,
   "metadata": {},
   "outputs": [],
   "source": [
    "results_chf = pd.DataFrame(CHF_DATA,columns=[\"Dataset\",\"ExecutionTime\",\"MemoryUsage\",\"FoundWeight\",\"OptimalWeight\",\"NumberNodes\"])\n",
    "results_chf[\"Quality\"] = results_chf[\"FoundWeight\"]/results_chf[\"OptimalWeight\"]\n",
    "results_chf.to_csv(\"results_chf.csv\",sep=\",\",header=True,index=False)"
   ]
  },
  {
   "cell_type": "code",
   "execution_count": null,
   "metadata": {},
   "outputs": [],
   "source": []
  }
 ],
 "metadata": {
  "kernelspec": {
   "display_name": "Python 3",
   "language": "python",
   "name": "python3"
  },
  "language_info": {
   "codemirror_mode": {
    "name": "ipython",
    "version": 3
   },
   "file_extension": ".py",
   "mimetype": "text/x-python",
   "name": "python",
   "nbconvert_exporter": "python",
   "pygments_lexer": "ipython3",
   "version": "3.10.4"
  }
 },
 "nbformat": 4,
 "nbformat_minor": 2
}
