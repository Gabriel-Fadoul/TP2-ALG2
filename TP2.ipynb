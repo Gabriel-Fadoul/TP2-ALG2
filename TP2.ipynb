{
 "cells": [
  {
   "cell_type": "code",
   "execution_count": 1,
   "metadata": {},
   "outputs": [],
   "source": [
    "import math\n",
    "import numpy as np\n",
    "import pandas as pd\n",
    "import networkx as nx\n",
    "from functools import partial\n",
    "from datetime import datetime\n",
    "from memory_profiler import memory_usage"
   ]
  },
  {
   "cell_type": "code",
   "execution_count": 2,
   "metadata": {},
   "outputs": [],
   "source": [
    "def euc_2d(p1, p2):\n",
    "    x1, y1 = p1\n",
    "    x2, y2 = p2\n",
    "    d = math.sqrt((x2 - x1)**2 + (y2 - y1)**2)\n",
    "    return d\n",
    "\n",
    "def generate_nodes(p,data):\n",
    "    return np.apply_along_axis(lambda x: euc_2d((p[1],p[2]),(x[1],x[2])),1,data)"
   ]
  },
  {
   "cell_type": "code",
   "execution_count": 3,
   "metadata": {},
   "outputs": [],
   "source": [
    "file = open('./tp2_datasets.txt', 'r')\n",
    "\n",
    "archives = []\n",
    "\n",
    "for line in file.readlines()[1:]:\n",
    "    name = line.split()[0]+\".tsp\"\n",
    "    n_nodes = line.split()[1]\n",
    "    opt = line.split()[2]\n",
    "    archives.append([name,n_nodes,opt])\n",
    "file.close()"
   ]
  },
  {
   "cell_type": "code",
   "execution_count": 4,
   "metadata": {},
   "outputs": [],
   "source": [
    "archive = archives[1]\n",
    "#for archive in archives:\n",
    "f = open(\"./datasets/\"+archive[0],\"r\")\n",
    "data = f.readlines()[6:-1]\n",
    "#data.remove(\"EOF\\n\")\n",
    "d = np.array(list(map(lambda x: [float(i) for i in x.split()],data)))\n",
    "nodes = np.apply_along_axis(lambda x: x,0,d)\n",
    "edges = np.apply_along_axis(lambda x: generate_nodes(x,nodes),1,nodes)\n",
    "\n",
    "G = nx.Graph()\n",
    "#Create Nodes\n",
    "G.add_nodes_from(nodes[:,0])\n",
    "\n",
    "for i in range(len(nodes[:,0])):\n",
    "    for j in range(len(nodes[:,0])):\n",
    "        G.add_weighted_edges_from([(i+1,j+1,edges[i][j])])\n",
    "\n",
    "f.close()"
   ]
  },
  {
   "cell_type": "markdown",
   "metadata": {},
   "source": [
    "# Twice-Around-The-Tree(TAT)"
   ]
  },
  {
   "cell_type": "code",
   "execution_count": 5,
   "metadata": {},
   "outputs": [],
   "source": [
    "def sum_edges(G,ord):\n",
    "    c = 0\n",
    "    for i in range(len(ord)-1):   \n",
    "        c += G[ord[i]][ord[i+1]]['weight']\n",
    "    return c + G[ord[0]][ord[len(ord)-1]]['weight']\n",
    "\n",
    "def twice_around_the_tree(G):\n",
    "    T = nx.minimum_spanning_tree(G)\n",
    "    ordenation = list(nx.dfs_preorder_nodes(T, 1))\n",
    "    total = sum_edges(G, ordenation)\n",
    "    return total"
   ]
  },
  {
   "cell_type": "code",
   "execution_count": 6,
   "metadata": {},
   "outputs": [
    {
     "data": {
      "text/plain": [
       "1.3412907047879643"
      ]
     },
     "execution_count": 6,
     "metadata": {},
     "output_type": "execute_result"
    }
   ],
   "source": [
    "twice_around_the_tree(G)/float(archive[2])"
   ]
  },
  {
   "cell_type": "markdown",
   "metadata": {},
   "source": [
    "# Christofides"
   ]
  },
  {
   "cell_type": "code",
   "execution_count": 7,
   "metadata": {},
   "outputs": [],
   "source": [
    "def christofides(G):\n",
    "\n",
    "  T = nx.minimum_spanning_tree(G) \n",
    "  n_odd = list(filter(lambda x: (x[1]%2)!=0 ,T.degree))\n",
    "  min_m = nx.min_weight_matching(G.subgraph(n_odd)) \n",
    "  h = nx.MultiGraph(T)\n",
    "  h.add_edges_from(min_m)\n",
    "  ordenation = list(nx.dfs_preorder_nodes(h, 1))\n",
    "  total = sum_edges(G, ordenation)\n",
    "  return total"
   ]
  },
  {
   "cell_type": "code",
   "execution_count": 8,
   "metadata": {},
   "outputs": [
    {
     "data": {
      "text/plain": [
       "1.370741204987188"
      ]
     },
     "execution_count": 8,
     "metadata": {},
     "output_type": "execute_result"
    }
   ],
   "source": [
    "c = christofides(G)\n",
    "c/float(archive[2])\n"
   ]
  },
  {
   "cell_type": "code",
   "execution_count": 9,
   "metadata": {},
   "outputs": [
    {
     "data": {
      "text/plain": [
       "(datetime.timedelta(seconds=4, microseconds=39643),\n",
       " 105.6484375,\n",
       " 10116.014495510826)"
      ]
     },
     "execution_count": 9,
     "metadata": {},
     "output_type": "execute_result"
    }
   ],
   "source": [
    "start=datetime.now()\n",
    "M_TAT, D_TAT = memory_usage(partial(twice_around_the_tree,G),interval=1,max_usage=True,retval=True)\n",
    "T_TAT = datetime.now()-start\n",
    "T_TAT,M_TAT,D_TAT"
   ]
  },
  {
   "cell_type": "code",
   "execution_count": null,
   "metadata": {},
   "outputs": [],
   "source": []
  },
  {
   "cell_type": "code",
   "execution_count": 25,
   "metadata": {},
   "outputs": [
    {
     "data": {
      "text/plain": [
       "[(3.708465, 113.3671875, 10116.014495510826),\n",
       " (3.647715, 113.3828125, 10338.130168013373)]"
      ]
     },
     "execution_count": 25,
     "metadata": {},
     "output_type": "execute_result"
    }
   ],
   "source": [
    "from timeout_decorator import timeout\n",
    "\n",
    "# Define your function\n",
    "#@timeout(1)  # Set the timeout to 5 seconds\n",
    "def wrap_up(G):\n",
    "    start=datetime.now()\n",
    "    M_TAT, D_TAT =  memory_usage(partial(twice_around_the_tree,G),interval=1,max_usage=True,retval=True)\n",
    "    T_TAT = datetime.now()-start\n",
    "    start=datetime.now()\n",
    "    M_CHF, D_CHF =  memory_usage(partial(christofides,G),interval=1,max_usage=True,retval=True)\n",
    "    T_CHF = datetime.now()-start\n",
    "    return [(T_TAT.total_seconds(),M_TAT,D_TAT),(T_CHF.total_seconds(),M_CHF,D_CHF)]\n",
    "\n",
    "#try:\n",
    "A = wrap_up(G)\n",
    "A\n",
    "#except TimeoutError:\n",
    "#    print(\"Function timed out\")"
   ]
  },
  {
   "cell_type": "code",
   "execution_count": 26,
   "metadata": {},
   "outputs": [
    {
     "data": {
      "text/plain": [
       "[(3.708465, 113.3671875, 10116.014495510826),\n",
       " (3.647715, 113.3828125, 10338.130168013373)]"
      ]
     },
     "execution_count": 26,
     "metadata": {},
     "output_type": "execute_result"
    }
   ],
   "source": [
    "A"
   ]
  },
  {
   "cell_type": "code",
   "execution_count": 14,
   "metadata": {},
   "outputs": [
    {
     "ename": "AttributeError",
     "evalue": "module 'signal' has no attribute 'alarm'",
     "output_type": "error",
     "traceback": [
      "\u001b[1;31m---------------------------------------------------------------------------\u001b[0m",
      "\u001b[1;31mAttributeError\u001b[0m                            Traceback (most recent call last)",
      "Cell \u001b[1;32mIn[14], line 4\u001b[0m\n\u001b[0;32m      2\u001b[0m signal\u001b[38;5;241m.\u001b[39msignal(signal\u001b[38;5;241m.\u001b[39mSIGBREAK,\u001b[38;5;28;01mlambda\u001b[39;00m x,y:exit())\n\u001b[0;32m      3\u001b[0m \u001b[38;5;66;03m#signal.abort(30*60)\u001b[39;00m\n\u001b[1;32m----> 4\u001b[0m \u001b[43msignal\u001b[49m\u001b[38;5;241;43m.\u001b[39;49m\u001b[43malarm\u001b[49m()\n\u001b[0;32m      5\u001b[0m \u001b[38;5;66;03m#signal.abort(0)\u001b[39;00m\n",
      "\u001b[1;31mAttributeError\u001b[0m: module 'signal' has no attribute 'alarm'"
     ]
    }
   ],
   "source": [
    "import signal\n",
    "signal.signal(signal.SIGALRM,lambda x,y:exit())\n",
    "signal.alarm(30*60)\n",
    "\n",
    "signal.alarm(0)"
   ]
  },
  {
   "cell_type": "code",
   "execution_count": null,
   "metadata": {},
   "outputs": [],
   "source": []
  }
 ],
 "metadata": {
  "kernelspec": {
   "display_name": "Python 3",
   "language": "python",
   "name": "python3"
  },
  "language_info": {
   "codemirror_mode": {
    "name": "ipython",
    "version": 3
   },
   "file_extension": ".py",
   "mimetype": "text/x-python",
   "name": "python",
   "nbconvert_exporter": "python",
   "pygments_lexer": "ipython3",
   "version": "3.10.4"
  }
 },
 "nbformat": 4,
 "nbformat_minor": 2
}
